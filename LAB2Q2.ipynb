{
 "cells": [
  {
   "cell_type": "markdown",
   "id": "caddb5cb-2950-4a29-93c6-2de8864a12a4",
   "metadata": {},
   "source": [
    "#RUOCHEN YANG"
   ]
  },
  {
   "cell_type": "code",
   "execution_count": null,
   "id": "7027788e-b3fa-4f64-b288-c0cd65300f8f",
   "metadata": {},
   "outputs": [],
   "source": [
    "\n",
    "from datetime import date\n",
    "import calendar\n",
    "\n",
    "while True:\n",
    "    user_input = input(\"Enter a date in format yy.mm.dd (or type STOP to quit): \")\n",
    "\n",
    "    if user_input.upper() == \"STOP\":\n",
    "        break\n",
    "        \n",
    "    parts = user_input.split(\".\")\n",
    "    yy = int(parts[0])\n",
    "    mm = int(parts[1])\n",
    "    dd = int(parts[2])\n",
    "\n",
    "    if yy > 60:\n",
    "        year = 1900 + yy\n",
    "    else:\n",
    "        year = 2000 + yy\n",
    "\n",
    "    if mm == 1:\n",
    "        month_name = \"January\"; max_day = 31\n",
    "    elif mm == 2:\n",
    "        month_name = \"February\"; max_day = 28  # not handling leap years\n",
    "    elif mm == 3:\n",
    "        month_name = \"March\"; max_day = 31\n",
    "    elif mm == 4:\n",
    "        month_name = \"April\"; max_day = 30\n",
    "    elif mm == 5:\n",
    "        month_name = \"May\"; max_day = 31\n",
    "    elif mm == 6:\n",
    "        month_name = \"June\"; max_day = 30\n",
    "    elif mm == 7:\n",
    "        month_name = \"July\"; max_day = 31\n",
    "    elif mm == 8:\n",
    "        month_name = \"August\"; max_day = 31\n",
    "    elif mm == 9:\n",
    "        month_name = \"September\"; max_day = 30\n",
    "    elif mm == 10:\n",
    "        month_name = \"October\"; max_day = 31\n",
    "    elif mm == 11:\n",
    "        month_name = \"November\"; max_day = 30\n",
    "    elif mm == 12:\n",
    "        month_name = \"December\"; max_day = 31\n",
    "    else:\n",
    "        print(\"Error: Invalid month\")\n",
    "        continue\n",
    "\n",
    "    if dd < 1 or dd > max_day:\n",
    "        print(\"Error: Invalid date\")\n",
    "        continue\n",
    "\n",
    "    print(f\"Date: {year}, {month_name} {dd}\")\n",
    "\n",
    "    print(\"\\nBonus:\")\n",
    "    d = date(year, mm, dd)\n",
    "    print(d) \n",
    "    print(calendar.month_name[mm]) \n",
    "    print()\n"
   ]
  }
 ],
 "metadata": {
  "kernelspec": {
   "display_name": "Python [conda env:base] *",
   "language": "python",
   "name": "conda-base-py"
  },
  "language_info": {
   "codemirror_mode": {
    "name": "ipython",
    "version": 3
   },
   "file_extension": ".py",
   "mimetype": "text/x-python",
   "name": "python",
   "nbconvert_exporter": "python",
   "pygments_lexer": "ipython3",
   "version": "3.12.7"
  }
 },
 "nbformat": 4,
 "nbformat_minor": 5
}
