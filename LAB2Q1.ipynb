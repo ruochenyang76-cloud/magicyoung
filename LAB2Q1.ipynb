{
 "cells": [
  {
   "cell_type": "markdown",
   "id": "53aab235-b4c2-44d2-903a-a1691207c9d0",
   "metadata": {},
   "source": [
    "#RUOCHEN YANG"
   ]
  },
  {
   "cell_type": "code",
   "execution_count": 1,
   "id": "8953912d-afec-445e-8125-794dcff831eb",
   "metadata": {},
   "outputs": [
    {
     "name": "stdin",
     "output_type": "stream",
     "text": [
      "Enter the item amount:  50\n"
     ]
    },
    {
     "name": "stdout",
     "output_type": "stream",
     "text": [
      "Item amount: $50.00\n",
      "Provincial tax (5%): $2.50\n",
      "Federal tax (7%): $3.50\n",
      "Total with taxes: $56.00\n"
     ]
    }
   ],
   "source": [
    "item_amount = float(input(\"Enter the item amount: \"))\n",
    "provincial_tax = item_amount * 0.05\n",
    "federal_tax = item_amount * 0.07\n",
    "total = item_amount + provincial_tax + federal_tax\n",
    "print(f\"Item amount: ${item_amount:.2f}\")\n",
    "print(f\"Provincial tax (5%): ${provincial_tax:.2f}\")\n",
    "print(f\"Federal tax (7%): ${federal_tax:.2f}\")\n",
    "print(f\"Total with taxes: ${total:.2f}\")"
   ]
  },
  {
   "cell_type": "code",
   "execution_count": null,
   "id": "3d70d7a1-648d-491d-8ee0-7e3989e83a9d",
   "metadata": {},
   "outputs": [],
   "source": []
  }
 ],
 "metadata": {
  "kernelspec": {
   "display_name": "Python [conda env:base] *",
   "language": "python",
   "name": "conda-base-py"
  },
  "language_info": {
   "codemirror_mode": {
    "name": "ipython",
    "version": 3
   },
   "file_extension": ".py",
   "mimetype": "text/x-python",
   "name": "python",
   "nbconvert_exporter": "python",
   "pygments_lexer": "ipython3",
   "version": "3.12.7"
  }
 },
 "nbformat": 4,
 "nbformat_minor": 5
}
