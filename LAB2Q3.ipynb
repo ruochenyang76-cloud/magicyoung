{
 "cells": [
  {
   "cell_type": "code",
   "execution_count": 1,
   "id": "d2d885c9-de85-484a-afdd-1234b6782c1f",
   "metadata": {},
   "outputs": [
    {
     "name": "stdout",
     "output_type": "stream",
     "text": [
      "0\n",
      "1\n",
      "2\n",
      "3\n",
      "4\n",
      "5\n",
      "6\n",
      "7\n",
      "8\n",
      "9\n"
     ]
    }
   ],
   "source": [
    "for i in range(0,10):\n",
    "    print(i)\n"
   ]
  },
  {
   "cell_type": "code",
   "execution_count": 3,
   "id": "ce8cd6c8-34a5-4676-9a8c-a3987b431d38",
   "metadata": {},
   "outputs": [],
   "source": [
    "for i in range(11,0):\n",
    "    print(i)"
   ]
  },
  {
   "cell_type": "code",
   "execution_count": null,
   "id": "bce7ab5d-e725-4a57-a2ea-ecf0e4412d8e",
   "metadata": {},
   "outputs": [],
   "source": []
  },
  {
   "cell_type": "code",
   "execution_count": 4,
   "id": "a838832d-4668-4ac5-924a-9e71561145b3",
   "metadata": {},
   "outputs": [
    {
     "name": "stdout",
     "output_type": "stream",
     "text": [
      "    * \n",
      "   * * \n",
      "  * * * \n",
      " * * * * \n",
      "* * * * * \n",
      " * * * * \n",
      "  * * * \n",
      "   * * \n",
      "    * \n"
     ]
    }
   ],
   "source": [
    "def print_diamond(n):\n",
    "    # 上半部分三角形\n",
    "    for i in range(n):\n",
    "        print(' ' * (n - i - 1) + '* ' * (i + 1))\n",
    "    \n",
    "    # 下半部分倒三角形\n",
    "    for i in range(n - 1):\n",
    "        print(' ' * (i + 1) + '* ' * (n - i - 1))\n",
    "\n",
    "# 调用函数并打印一个5行的菱形，以匹配示例图\n",
    "print_diamond(5)\n",
    "\n",
    "# 如果你需要更小的图案，比如3行\n",
    "# print_diamond(3)"
   ]
  },
  {
   "cell_type": "code",
   "execution_count": 5,
   "id": "6d90c865-cbc4-4bda-a99c-d278cea56cfb",
   "metadata": {},
   "outputs": [
    {
     "name": "stdout",
     "output_type": "stream",
     "text": [
      "65.0\n"
     ]
    }
   ],
   "source": [
    "n=8**2+12/4*(3-1)%5\n",
    "print(n)"
   ]
  },
  {
   "cell_type": "code",
   "execution_count": 6,
   "id": "4b80c8fa-a203-4a9c-ab8e-eec23468c724",
   "metadata": {},
   "outputs": [
    {
     "name": "stdout",
     "output_type": "stream",
     "text": [
      "54\n"
     ]
    }
   ],
   "source": [
    "print(42+4*3)\n"
   ]
  },
  {
   "cell_type": "code",
   "execution_count": 7,
   "id": "f3bfb93f-3ebd-4b83-b21b-9b1ac5119cbd",
   "metadata": {},
   "outputs": [
    {
     "ename": "AttributeError",
     "evalue": "'str' object has no attribute 'print'",
     "output_type": "error",
     "traceback": [
      "\u001b[1;31m---------------------------------------------------------------------------\u001b[0m",
      "\u001b[1;31mAttributeError\u001b[0m                            Traceback (most recent call last)",
      "Cell \u001b[1;32mIn[7], line 1\u001b[0m\n\u001b[1;32m----> 1\u001b[0m \u001b[38;5;124m\"\u001b[39m\u001b[38;5;124mmagic\u001b[39m\u001b[38;5;124m\"\u001b[39m\u001b[38;5;241m.\u001b[39mprint\n",
      "\u001b[1;31mAttributeError\u001b[0m: 'str' object has no attribute 'print'"
     ]
    }
   ],
   "source": [
    "\"magic\".print\n"
   ]
  },
  {
   "cell_type": "code",
   "execution_count": 8,
   "id": "9e9094ae-e9cd-4105-a940-0bc4f05b3673",
   "metadata": {},
   "outputs": [
    {
     "name": "stdout",
     "output_type": "stream",
     "text": [
      "11111\"111\"1111\n"
     ]
    }
   ],
   "source": [
    "print('11111\"111\"1111')"
   ]
  },
  {
   "cell_type": "code",
   "execution_count": null,
   "id": "0bce45f6-830b-42b7-826a-581435b04b32",
   "metadata": {},
   "outputs": [],
   "source": []
  }
 ],
 "metadata": {
  "kernelspec": {
   "display_name": "Python [conda env:base] *",
   "language": "python",
   "name": "conda-base-py"
  },
  "language_info": {
   "codemirror_mode": {
    "name": "ipython",
    "version": 3
   },
   "file_extension": ".py",
   "mimetype": "text/x-python",
   "name": "python",
   "nbconvert_exporter": "python",
   "pygments_lexer": "ipython3",
   "version": "3.12.7"
  }
 },
 "nbformat": 4,
 "nbformat_minor": 5
}
